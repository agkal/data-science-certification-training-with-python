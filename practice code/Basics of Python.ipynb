{
 "cells": [
  {
   "cell_type": "code",
   "execution_count": 1,
   "id": "6f450580",
   "metadata": {},
   "outputs": [
    {
     "name": "stdout",
     "output_type": "stream",
     "text": [
      "welcome to Python..!!\n"
     ]
    }
   ],
   "source": [
    "print(\"welcome to Python..!!\")"
   ]
  },
  {
   "cell_type": "code",
   "execution_count": 7,
   "id": "575c3179",
   "metadata": {},
   "outputs": [
    {
     "data": {
      "text/plain": [
       "True"
      ]
     },
     "execution_count": 7,
     "metadata": {},
     "output_type": "execute_result"
    }
   ],
   "source": [
    "import keyword\n",
    "keyword.kwlist\n",
    "keyword.iskeyword('try')"
   ]
  },
  {
   "cell_type": "code",
   "execution_count": 8,
   "id": "83a44b70",
   "metadata": {},
   "outputs": [
    {
     "name": "stdout",
     "output_type": "stream",
     "text": [
      "abdul ghaffar\n"
     ]
    }
   ],
   "source": [
    "name = \"abdul ghaffar\"\n",
    "my_identifier = name\n",
    "print(my_identifier)"
   ]
  },
  {
   "cell_type": "code",
   "execution_count": 13,
   "id": "67c3be84",
   "metadata": {},
   "outputs": [
    {
     "data": {
      "text/plain": [
       "'this is a docstring comment i hope it is clear'"
      ]
     },
     "execution_count": 13,
     "metadata": {},
     "output_type": "execute_result"
    }
   ],
   "source": [
    "#comments\n",
    "\"\"\"this is a docstring comment i hope it is clear\"\"\""
   ]
  },
  {
   "cell_type": "code",
   "execution_count": 20,
   "id": "22f2c31b",
   "metadata": {},
   "outputs": [
    {
     "name": "stdout",
     "output_type": "stream",
     "text": [
      "10\n",
      "20\n"
     ]
    }
   ],
   "source": [
    "\"\"\"global variable\"\"\"\n",
    "A = 10\n",
    "def function():\n",
    "    global A\n",
    "    A += 10\n",
    "    print(A)\n",
    "print(A)\n",
    "function()\n"
   ]
  },
  {
   "cell_type": "code",
   "execution_count": null,
   "id": "901f0204",
   "metadata": {},
   "outputs": [],
   "source": []
  }
 ],
 "metadata": {
  "kernelspec": {
   "display_name": "Python 3",
   "language": "python",
   "name": "python3"
  },
  "language_info": {
   "codemirror_mode": {
    "name": "ipython",
    "version": 3
   },
   "file_extension": ".py",
   "mimetype": "text/x-python",
   "name": "python",
   "nbconvert_exporter": "python",
   "pygments_lexer": "ipython3",
   "version": "3.8.8"
  }
 },
 "nbformat": 4,
 "nbformat_minor": 5
}
